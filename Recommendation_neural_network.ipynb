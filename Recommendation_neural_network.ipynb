{
 "cells": [
  {
   "cell_type": "code",
   "execution_count": 0,
   "metadata": {
    "colab": {},
    "colab_type": "code",
    "id": "cCTF8pk2bcNx"
   },
   "outputs": [],
   "source": [
    "Use GPU"
   ]
  },
  {
   "cell_type": "code",
   "execution_count": 2,
   "metadata": {
    "colab": {
     "base_uri": "https://localhost:8080/",
     "height": 34
    },
    "colab_type": "code",
    "id": "tmzpqjjzTPIc",
    "outputId": "f73b2da3-e813-4152-a0d2-d7b14e7b32b2"
   },
   "outputs": [
    {
     "name": "stderr",
     "output_type": "stream",
     "text": [
      "Using TensorFlow backend.\n"
     ]
    }
   ],
   "source": [
    "import os\n",
    "import pickle\n",
    "import numpy as np\n",
    "import pandas as pd\n",
    "from keras.utils import np_utils\n",
    "from collections import defaultdict\n",
    "from keras.models import Sequential, Model\n",
    "from keras.utils.data_utils import get_file\n",
    "from keras.preprocessing.text import Tokenizer\n",
    "from sklearn.metrics import mean_absolute_error\n",
    "from keras.preprocessing.sequence import skipgrams\n",
    "from keras.layers.merge import Dot, multiply, concatenate\n",
    "from keras.layers import Embedding, Reshape, Activation, Input, Dense, Flatten, Dropout"
   ]
  },
  {
   "cell_type": "code",
   "execution_count": 0,
   "metadata": {
    "colab": {},
    "colab_type": "code",
    "id": "OxL4yvk6Zsrb"
   },
   "outputs": [],
   "source": [
    "upload \n",
    "movies.csv\n",
    "ratings.csv\n",
    "From Avenu2Learn (week 6)"
   ]
  },
  {
   "cell_type": "code",
   "execution_count": 0,
   "metadata": {
    "colab": {},
    "colab_type": "code",
    "id": "by6tU_SwTPIg"
   },
   "outputs": [],
   "source": [
    "# read data\n",
    "movie_titles = pd.read_csv(\n",
    "    'movies.csv',\n",
    "    usecols=['movieId', 'title'],\n",
    "    dtype={'movieId': 'int16', 'title': 'str'})\n",
    "\n",
    "df_user= pd.read_csv(\n",
    "    'ratings.csv',\n",
    "    usecols=['userId', 'movieId', 'rating'],\n",
    "    dtype={'userId': 'int32', 'movieId': 'int32', 'rating': 'float32'})"
   ]
  },
  {
   "cell_type": "markdown",
   "metadata": {
    "colab_type": "text",
    "id": "xjdaSOrgTPIl"
   },
   "source": [
    "Each record (row) shows the rating for a user, item (movie) pair."
   ]
  },
  {
   "cell_type": "code",
   "execution_count": 7,
   "metadata": {
    "colab": {
     "base_uri": "https://localhost:8080/",
     "height": 204
    },
    "colab_type": "code",
    "id": "mJkGunTxTPIm",
    "outputId": "904e335d-fec7-4ffd-ff63-f84a364c167e"
   },
   "outputs": [
    {
     "data": {
      "text/html": [
       "<div>\n",
       "<style scoped>\n",
       "    .dataframe tbody tr th:only-of-type {\n",
       "        vertical-align: middle;\n",
       "    }\n",
       "\n",
       "    .dataframe tbody tr th {\n",
       "        vertical-align: top;\n",
       "    }\n",
       "\n",
       "    .dataframe thead th {\n",
       "        text-align: right;\n",
       "    }\n",
       "</style>\n",
       "<table border=\"1\" class=\"dataframe\">\n",
       "  <thead>\n",
       "    <tr style=\"text-align: right;\">\n",
       "      <th></th>\n",
       "      <th>movieId</th>\n",
       "      <th>title</th>\n",
       "    </tr>\n",
       "  </thead>\n",
       "  <tbody>\n",
       "    <tr>\n",
       "      <th>0</th>\n",
       "      <td>1</td>\n",
       "      <td>Toy Story (1995)</td>\n",
       "    </tr>\n",
       "    <tr>\n",
       "      <th>1</th>\n",
       "      <td>2</td>\n",
       "      <td>Jumanji (1995)</td>\n",
       "    </tr>\n",
       "    <tr>\n",
       "      <th>2</th>\n",
       "      <td>3</td>\n",
       "      <td>Grumpier Old Men (1995)</td>\n",
       "    </tr>\n",
       "    <tr>\n",
       "      <th>3</th>\n",
       "      <td>4</td>\n",
       "      <td>Waiting to Exhale (1995)</td>\n",
       "    </tr>\n",
       "    <tr>\n",
       "      <th>4</th>\n",
       "      <td>5</td>\n",
       "      <td>Father of the Bride Part II (1995)</td>\n",
       "    </tr>\n",
       "  </tbody>\n",
       "</table>\n",
       "</div>"
      ],
      "text/plain": [
       "   movieId                               title\n",
       "0        1                    Toy Story (1995)\n",
       "1        2                      Jumanji (1995)\n",
       "2        3             Grumpier Old Men (1995)\n",
       "3        4            Waiting to Exhale (1995)\n",
       "4        5  Father of the Bride Part II (1995)"
      ]
     },
     "execution_count": 7,
     "metadata": {
      "tags": []
     },
     "output_type": "execute_result"
    }
   ],
   "source": [
    "movie_titles.head()"
   ]
  },
  {
   "cell_type": "code",
   "execution_count": 9,
   "metadata": {
    "colab": {
     "base_uri": "https://localhost:8080/",
     "height": 204
    },
    "colab_type": "code",
    "id": "ON7xBaVTTPIu",
    "outputId": "af4963d6-0c3d-4480-8f74-709f7137270f"
   },
   "outputs": [
    {
     "data": {
      "text/html": [
       "<div>\n",
       "<style scoped>\n",
       "    .dataframe tbody tr th:only-of-type {\n",
       "        vertical-align: middle;\n",
       "    }\n",
       "\n",
       "    .dataframe tbody tr th {\n",
       "        vertical-align: top;\n",
       "    }\n",
       "\n",
       "    .dataframe thead th {\n",
       "        text-align: right;\n",
       "    }\n",
       "</style>\n",
       "<table border=\"1\" class=\"dataframe\">\n",
       "  <thead>\n",
       "    <tr style=\"text-align: right;\">\n",
       "      <th></th>\n",
       "      <th>userId</th>\n",
       "      <th>movieId</th>\n",
       "      <th>rating</th>\n",
       "    </tr>\n",
       "  </thead>\n",
       "  <tbody>\n",
       "    <tr>\n",
       "      <th>0</th>\n",
       "      <td>1</td>\n",
       "      <td>1</td>\n",
       "      <td>4.0</td>\n",
       "    </tr>\n",
       "    <tr>\n",
       "      <th>1</th>\n",
       "      <td>1</td>\n",
       "      <td>3</td>\n",
       "      <td>4.0</td>\n",
       "    </tr>\n",
       "    <tr>\n",
       "      <th>2</th>\n",
       "      <td>1</td>\n",
       "      <td>6</td>\n",
       "      <td>4.0</td>\n",
       "    </tr>\n",
       "    <tr>\n",
       "      <th>3</th>\n",
       "      <td>1</td>\n",
       "      <td>47</td>\n",
       "      <td>5.0</td>\n",
       "    </tr>\n",
       "    <tr>\n",
       "      <th>4</th>\n",
       "      <td>1</td>\n",
       "      <td>50</td>\n",
       "      <td>5.0</td>\n",
       "    </tr>\n",
       "  </tbody>\n",
       "</table>\n",
       "</div>"
      ],
      "text/plain": [
       "   userId  movieId  rating\n",
       "0       1        1     4.0\n",
       "1       1        3     4.0\n",
       "2       1        6     4.0\n",
       "3       1       47     5.0\n",
       "4       1       50     5.0"
      ]
     },
     "execution_count": 9,
     "metadata": {
      "tags": []
     },
     "output_type": "execute_result"
    }
   ],
   "source": [
    "df_user.head()"
   ]
  },
  {
   "cell_type": "code",
   "execution_count": 10,
   "metadata": {
    "colab": {
     "base_uri": "https://localhost:8080/",
     "height": 34
    },
    "colab_type": "code",
    "id": "MTOVpwYXTPIy",
    "outputId": "bcb9b5e8-eb88-47f3-fe74-0f2f014b4024"
   },
   "outputs": [
    {
     "data": {
      "text/plain": [
       "(610, 9724)"
      ]
     },
     "execution_count": 10,
     "metadata": {
      "tags": []
     },
     "output_type": "execute_result"
    }
   ],
   "source": [
    "len(df_user.userId.unique()), len(df_user.movieId.unique())"
   ]
  },
  {
   "cell_type": "markdown",
   "metadata": {
    "colab_type": "text",
    "id": "zXLyDkKlTPI2"
   },
   "source": [
    "unique number between (0, #users) to each user and do the same for movies."
   ]
  },
  {
   "cell_type": "code",
   "execution_count": 0,
   "metadata": {
    "colab": {},
    "colab_type": "code",
    "id": "0N1lvEglTPI3"
   },
   "outputs": [],
   "source": [
    "df_user.userId = df_user.userId.astype('category').cat.codes.values\n",
    "df_user.movieId = df_user.movieId.astype('category').cat.codes.values"
   ]
  },
  {
   "cell_type": "code",
   "execution_count": 12,
   "metadata": {
    "colab": {
     "base_uri": "https://localhost:8080/",
     "height": 204
    },
    "colab_type": "code",
    "id": "JhftrU6OTPI6",
    "outputId": "4b95d419-bd62-43bc-dd70-fa2a75bc3c0a"
   },
   "outputs": [
    {
     "data": {
      "text/html": [
       "<div>\n",
       "<style scoped>\n",
       "    .dataframe tbody tr th:only-of-type {\n",
       "        vertical-align: middle;\n",
       "    }\n",
       "\n",
       "    .dataframe tbody tr th {\n",
       "        vertical-align: top;\n",
       "    }\n",
       "\n",
       "    .dataframe thead th {\n",
       "        text-align: right;\n",
       "    }\n",
       "</style>\n",
       "<table border=\"1\" class=\"dataframe\">\n",
       "  <thead>\n",
       "    <tr style=\"text-align: right;\">\n",
       "      <th></th>\n",
       "      <th>userId</th>\n",
       "      <th>movieId</th>\n",
       "      <th>rating</th>\n",
       "    </tr>\n",
       "  </thead>\n",
       "  <tbody>\n",
       "    <tr>\n",
       "      <th>0</th>\n",
       "      <td>0</td>\n",
       "      <td>0</td>\n",
       "      <td>4.0</td>\n",
       "    </tr>\n",
       "    <tr>\n",
       "      <th>1</th>\n",
       "      <td>0</td>\n",
       "      <td>2</td>\n",
       "      <td>4.0</td>\n",
       "    </tr>\n",
       "    <tr>\n",
       "      <th>2</th>\n",
       "      <td>0</td>\n",
       "      <td>5</td>\n",
       "      <td>4.0</td>\n",
       "    </tr>\n",
       "    <tr>\n",
       "      <th>3</th>\n",
       "      <td>0</td>\n",
       "      <td>43</td>\n",
       "      <td>5.0</td>\n",
       "    </tr>\n",
       "    <tr>\n",
       "      <th>4</th>\n",
       "      <td>0</td>\n",
       "      <td>46</td>\n",
       "      <td>5.0</td>\n",
       "    </tr>\n",
       "  </tbody>\n",
       "</table>\n",
       "</div>"
      ],
      "text/plain": [
       "   userId  movieId  rating\n",
       "0       0        0     4.0\n",
       "1       0        2     4.0\n",
       "2       0        5     4.0\n",
       "3       0       43     5.0\n",
       "4       0       46     5.0"
      ]
     },
     "execution_count": 12,
     "metadata": {
      "tags": []
     },
     "output_type": "execute_result"
    }
   ],
   "source": [
    "df_user.head()"
   ]
  },
  {
   "cell_type": "markdown",
   "metadata": {
    "colab_type": "text",
    "id": "-JHMvA8RTPI9"
   },
   "source": [
    "# Generate train and test"
   ]
  },
  {
   "cell_type": "code",
   "execution_count": 0,
   "metadata": {
    "colab": {},
    "colab_type": "code",
    "id": "Rs-_o0ElTPI-"
   },
   "outputs": [],
   "source": [
    "from sklearn.model_selection import train_test_split\n",
    "train, test = train_test_split(df_user, test_size=0.3)"
   ]
  },
  {
   "cell_type": "code",
   "execution_count": 14,
   "metadata": {
    "colab": {
     "base_uri": "https://localhost:8080/",
     "height": 204
    },
    "colab_type": "code",
    "id": "qO83bBO8TPJB",
    "outputId": "ff8d6230-ac57-471a-a88a-01ab59f9541e"
   },
   "outputs": [
    {
     "data": {
      "text/html": [
       "<div>\n",
       "<style scoped>\n",
       "    .dataframe tbody tr th:only-of-type {\n",
       "        vertical-align: middle;\n",
       "    }\n",
       "\n",
       "    .dataframe tbody tr th {\n",
       "        vertical-align: top;\n",
       "    }\n",
       "\n",
       "    .dataframe thead th {\n",
       "        text-align: right;\n",
       "    }\n",
       "</style>\n",
       "<table border=\"1\" class=\"dataframe\">\n",
       "  <thead>\n",
       "    <tr style=\"text-align: right;\">\n",
       "      <th></th>\n",
       "      <th>userId</th>\n",
       "      <th>movieId</th>\n",
       "      <th>rating</th>\n",
       "    </tr>\n",
       "  </thead>\n",
       "  <tbody>\n",
       "    <tr>\n",
       "      <th>36457</th>\n",
       "      <td>248</td>\n",
       "      <td>909</td>\n",
       "      <td>4.5</td>\n",
       "    </tr>\n",
       "    <tr>\n",
       "      <th>13104</th>\n",
       "      <td>83</td>\n",
       "      <td>120</td>\n",
       "      <td>4.0</td>\n",
       "    </tr>\n",
       "    <tr>\n",
       "      <th>31818</th>\n",
       "      <td>218</td>\n",
       "      <td>3490</td>\n",
       "      <td>3.5</td>\n",
       "    </tr>\n",
       "    <tr>\n",
       "      <th>95069</th>\n",
       "      <td>598</td>\n",
       "      <td>9454</td>\n",
       "      <td>3.0</td>\n",
       "    </tr>\n",
       "    <tr>\n",
       "      <th>78872</th>\n",
       "      <td>488</td>\n",
       "      <td>3409</td>\n",
       "      <td>0.5</td>\n",
       "    </tr>\n",
       "  </tbody>\n",
       "</table>\n",
       "</div>"
      ],
      "text/plain": [
       "       userId  movieId  rating\n",
       "36457     248      909     4.5\n",
       "13104      83      120     4.0\n",
       "31818     218     3490     3.5\n",
       "95069     598     9454     3.0\n",
       "78872     488     3409     0.5"
      ]
     },
     "execution_count": 14,
     "metadata": {
      "tags": []
     },
     "output_type": "execute_result"
    }
   ],
   "source": [
    "train.head()"
   ]
  },
  {
   "cell_type": "code",
   "execution_count": 0,
   "metadata": {
    "colab": {},
    "colab_type": "code",
    "id": "akvzO7FpTPJF"
   },
   "outputs": [],
   "source": [
    "n_users, n_movies = len(df_user.userId.unique()), len(df_user.movieId.unique())"
   ]
  },
  {
   "cell_type": "markdown",
   "metadata": {
    "colab_type": "text",
    "id": "LJ7GkD2fTPJI"
   },
   "source": [
    "# ---Model 1----"
   ]
  },
  {
   "cell_type": "code",
   "execution_count": 18,
   "metadata": {
    "colab": {
     "base_uri": "https://localhost:8080/",
     "height": 527
    },
    "colab_type": "code",
    "id": "EH0kj1WgTPJJ",
    "outputId": "37381f06-4382-4aae-9c85-060ee49d9d63"
   },
   "outputs": [
    {
     "name": "stdout",
     "output_type": "stream",
     "text": [
      "WARNING:tensorflow:From /usr/local/lib/python3.6/dist-packages/tensorflow/python/framework/op_def_library.py:263: colocate_with (from tensorflow.python.framework.ops) is deprecated and will be removed in a future version.\n",
      "Instructions for updating:\n",
      "Colocations handled automatically by placer.\n",
      "WARNING:tensorflow:From /usr/local/lib/python3.6/dist-packages/keras/backend/tensorflow_backend.py:3445: calling dropout (from tensorflow.python.ops.nn_ops) with keep_prob is deprecated and will be removed in a future version.\n",
      "Instructions for updating:\n",
      "Please use `rate` instead of `keep_prob`. Rate should be set to `rate = 1 - keep_prob`.\n",
      "__________________________________________________________________________________________________\n",
      "Layer (type)                    Output Shape         Param #     Connected to                     \n",
      "==================================================================================================\n",
      "input_1 (InputLayer)            (None, 1)            0                                            \n",
      "__________________________________________________________________________________________________\n",
      "input_2 (InputLayer)            (None, 1)            0                                            \n",
      "__________________________________________________________________________________________________\n",
      "work (Embedding)                (None, 1, 30)        291750      input_1[0][0]                    \n",
      "__________________________________________________________________________________________________\n",
      "user (Embedding)                (None, 1, 30)        18330       input_2[0][0]                    \n",
      "__________________________________________________________________________________________________\n",
      "multiply_1 (Multiply)           (None, 1, 30)        0           work[0][0]                       \n",
      "                                                                 user[0][0]                       \n",
      "__________________________________________________________________________________________________\n",
      "dropout_1 (Dropout)             (None, 1, 30)        0           multiply_1[0][0]                 \n",
      "__________________________________________________________________________________________________\n",
      "flatten_1 (Flatten)             (None, 30)           0           dropout_1[0][0]                  \n",
      "__________________________________________________________________________________________________\n",
      "dense_1 (Dense)                 (None, 1)            31          flatten_1[0][0]                  \n",
      "==================================================================================================\n",
      "Total params: 310,111\n",
      "Trainable params: 310,111\n",
      "Non-trainable params: 0\n",
      "__________________________________________________________________________________________________\n"
     ]
    }
   ],
   "source": [
    "dim_embedddings = 30\n",
    "bias = 3\n",
    "\n",
    "\n",
    "w_inputs = Input(shape=(1,), dtype='int32')\n",
    "u_inputs = Input(shape=(1,), dtype='int32')\n",
    "\n",
    "w = Embedding(n_movies+1, dim_embedddings, name=\"work\")(w_inputs)\n",
    "u = Embedding(n_users+1, dim_embedddings, name=\"user\")(u_inputs)\n",
    "\n",
    "o = multiply([w, u])\n",
    "o = Dropout(0.5)(o)\n",
    "o = Flatten()(o)\n",
    "o = Dense(1)(o)\n",
    "\n",
    "rec_model = Model(inputs=[w_inputs, u_inputs], outputs=o)\n",
    "rec_model.compile(loss='mae', optimizer='adam', metrics=[\"mae\"])\n",
    "rec_model.summary()"
   ]
  },
  {
   "cell_type": "code",
   "execution_count": 19,
   "metadata": {
    "colab": {
     "base_uri": "https://localhost:8080/",
     "height": 238
    },
    "colab_type": "code",
    "id": "2tPlE-ncTPJO",
    "outputId": "1a17f087-eb7f-49dc-8c15-45f9e54923be"
   },
   "outputs": [
    {
     "name": "stdout",
     "output_type": "stream",
     "text": [
      "WARNING:tensorflow:From /usr/local/lib/python3.6/dist-packages/tensorflow/python/ops/math_ops.py:3066: to_int32 (from tensorflow.python.ops.math_ops) is deprecated and will be removed in a future version.\n",
      "Instructions for updating:\n",
      "Use tf.cast instead.\n"
     ]
    },
    {
     "name": "stderr",
     "output_type": "stream",
     "text": [
      "/usr/local/lib/python3.6/dist-packages/ipykernel_launcher.py:1: UserWarning: The `nb_epoch` argument in `fit` has been renamed `epochs`.\n",
      "  \"\"\"Entry point for launching an IPython kernel.\n"
     ]
    },
    {
     "name": "stdout",
     "output_type": "stream",
     "text": [
      "Train on 56468 samples, validate on 14117 samples\n",
      "Epoch 1/3\n",
      " - 8s - loss: 2.5201 - mean_absolute_error: 2.5201 - val_loss: 1.2369 - val_mean_absolute_error: 1.2369\n",
      "Epoch 2/3\n",
      " - 7s - loss: 0.9336 - mean_absolute_error: 0.9336 - val_loss: 0.7720 - val_mean_absolute_error: 0.7720\n",
      "Epoch 3/3\n",
      " - 7s - loss: 0.7266 - mean_absolute_error: 0.7266 - val_loss: 0.7217 - val_mean_absolute_error: 0.7217\n",
      " Test Mae model 1 : 0.7146915 \n"
     ]
    }
   ],
   "source": [
    "history = rec_model.fit([train.movieId, train.userId], train.rating, nb_epoch=3,validation_split=0.2, verbose=2)\n",
    "\n",
    "predictions = rec_model.predict([test.movieId, test.userId])\n",
    "test_performance = mean_absolute_error(test.rating, predictions)\n",
    "\n",
    "print(\" Test Mae model 1 : %s \" % test_performance)"
   ]
  },
  {
   "cell_type": "markdown",
   "metadata": {
    "colab_type": "text",
    "id": "uEaA_8rlTPJS"
   },
   "source": [
    "# ----Model 2---"
   ]
  },
  {
   "cell_type": "code",
   "execution_count": 20,
   "metadata": {
    "colab": {
     "base_uri": "https://localhost:8080/",
     "height": 561
    },
    "colab_type": "code",
    "id": "Sk6sM3hnTPJT",
    "outputId": "4f33b82e-038a-43ac-f7a6-309d7f417fe1"
   },
   "outputs": [
    {
     "name": "stdout",
     "output_type": "stream",
     "text": [
      "__________________________________________________________________________________________________\n",
      "Layer (type)                    Output Shape         Param #     Connected to                     \n",
      "==================================================================================================\n",
      "input_3 (InputLayer)            (None, 1)            0                                            \n",
      "__________________________________________________________________________________________________\n",
      "input_4 (InputLayer)            (None, 1)            0                                            \n",
      "__________________________________________________________________________________________________\n",
      "work (Embedding)                (None, 1, 30)        291750      input_3[0][0]                    \n",
      "__________________________________________________________________________________________________\n",
      "user (Embedding)                (None, 1, 30)        18330       input_4[0][0]                    \n",
      "__________________________________________________________________________________________________\n",
      "multiply_2 (Multiply)           (None, 1, 30)        0           work[0][0]                       \n",
      "                                                                 user[0][0]                       \n",
      "__________________________________________________________________________________________________\n",
      "userbias (Embedding)            (None, 1, 1)         611         input_4[0][0]                    \n",
      "__________________________________________________________________________________________________\n",
      "workbias (Embedding)            (None, 1, 1)         9725        input_3[0][0]                    \n",
      "__________________________________________________________________________________________________\n",
      "concatenate_1 (Concatenate)     (None, 1, 32)        0           multiply_2[0][0]                 \n",
      "                                                                 userbias[0][0]                   \n",
      "                                                                 workbias[0][0]                   \n",
      "__________________________________________________________________________________________________\n",
      "dropout_2 (Dropout)             (None, 1, 32)        0           concatenate_1[0][0]              \n",
      "__________________________________________________________________________________________________\n",
      "flatten_2 (Flatten)             (None, 32)           0           dropout_2[0][0]                  \n",
      "__________________________________________________________________________________________________\n",
      "dense_2 (Dense)                 (None, 1)            33          flatten_2[0][0]                  \n",
      "==================================================================================================\n",
      "Total params: 320,449\n",
      "Trainable params: 320,449\n",
      "Non-trainable params: 0\n",
      "__________________________________________________________________________________________________\n"
     ]
    }
   ],
   "source": [
    "dim_embedddings = 30\n",
    "bias = 1\n",
    "\n",
    "w_inputs = Input(shape=(1,), dtype='int32')\n",
    "u_inputs = Input(shape=(1,), dtype='int32')\n",
    "\n",
    "w = Embedding(n_movies+1, dim_embedddings, name=\"work\")(w_inputs)\n",
    "w_bis = Embedding(n_movies+1, bias, name=\"workbias\")(w_inputs)\n",
    "\n",
    "u = Embedding(n_users+1, dim_embedddings, name=\"user\")(u_inputs)\n",
    "u_bis = Embedding(n_users+1, bias, name=\"userbias\")(u_inputs)\n",
    "\n",
    "o = multiply([w, u])\n",
    "o = concatenate([o, u_bis, w_bis])\n",
    "o = Dropout(0.5)(o)\n",
    "o = Flatten()(o)\n",
    "o = Dense(1)(o)\n",
    "\n",
    "rec_model = Model(inputs=[w_inputs, u_inputs], outputs=o)\n",
    "rec_model.compile(loss='mae', optimizer='adam', metrics=[\"mae\"])\n",
    "\n",
    "rec_model.summary()"
   ]
  },
  {
   "cell_type": "code",
   "execution_count": 21,
   "metadata": {
    "colab": {
     "base_uri": "https://localhost:8080/",
     "height": 187
    },
    "colab_type": "code",
    "id": "4Fh3s7rbTPJY",
    "outputId": "6e284513-f9cb-47e5-9704-a2829d272dc2"
   },
   "outputs": [
    {
     "name": "stderr",
     "output_type": "stream",
     "text": [
      "/usr/local/lib/python3.6/dist-packages/ipykernel_launcher.py:1: UserWarning: The `nb_epoch` argument in `fit` has been renamed `epochs`.\n",
      "  \"\"\"Entry point for launching an IPython kernel.\n"
     ]
    },
    {
     "name": "stdout",
     "output_type": "stream",
     "text": [
      "Train on 56468 samples, validate on 14117 samples\n",
      "Epoch 1/3\n",
      " - 8s - loss: 2.2473 - mean_absolute_error: 2.2473 - val_loss: 1.0389 - val_mean_absolute_error: 1.0389\n",
      "Epoch 2/3\n",
      " - 8s - loss: 0.9841 - mean_absolute_error: 0.9841 - val_loss: 0.7604 - val_mean_absolute_error: 0.7604\n",
      "Epoch 3/3\n",
      " - 9s - loss: 0.7440 - mean_absolute_error: 0.7440 - val_loss: 0.7118 - val_mean_absolute_error: 0.7118\n",
      " Test Mae model 1 : 0.7032975 \n"
     ]
    }
   ],
   "source": [
    "history = rec_model.fit([train.movieId, train.userId], train.rating, nb_epoch=3,validation_split=0.2, verbose=2)\n",
    "predictions = rec_model.predict([test.movieId, test.userId])\n",
    "test_performance = mean_absolute_error(test.rating, predictions)\n",
    "print(\" Test Mae model 1 : %s \" % test_performance)"
   ]
  },
  {
   "cell_type": "markdown",
   "metadata": {
    "colab_type": "text",
    "id": "h4wQNW8ZTPJb"
   },
   "source": [
    "# ----Model 3----"
   ]
  },
  {
   "cell_type": "code",
   "execution_count": 0,
   "metadata": {
    "colab": {},
    "colab_type": "code",
    "id": "6twY_i6ETPJc",
    "outputId": "5004400a-31c6-4ba7-a1a7-421d2de8f150"
   },
   "outputs": [
    {
     "name": "stdout",
     "output_type": "stream",
     "text": [
      "____________________________________________________________________________________________________\n",
      "Layer (type)                     Output Shape          Param #     Connected to                     \n",
      "====================================================================================================\n",
      "input_11 (InputLayer)            (None, 1)             0                                            \n",
      "____________________________________________________________________________________________________\n",
      "input_12 (InputLayer)            (None, 1)             0                                            \n",
      "____________________________________________________________________________________________________\n",
      "work (Embedding)                 (None, 1, 30)         660930      input_11[0][0]                   \n",
      "____________________________________________________________________________________________________\n",
      "user (Embedding)                 (None, 1, 30)         302190      input_12[0][0]                   \n",
      "____________________________________________________________________________________________________\n",
      "multiply_6 (Multiply)            (None, 1, 30)         0           work[0][0]                       \n",
      "                                                                   user[0][0]                       \n",
      "____________________________________________________________________________________________________\n",
      "dropout_6 (Dropout)              (None, 1, 30)         0           multiply_6[0][0]                 \n",
      "____________________________________________________________________________________________________\n",
      "userbias (Embedding)             (None, 1, 1)          10073       input_12[0][0]                   \n",
      "____________________________________________________________________________________________________\n",
      "workbias (Embedding)             (None, 1, 1)          22031       input_11[0][0]                   \n",
      "____________________________________________________________________________________________________\n",
      "concatenate_2 (Concatenate)      (None, 1, 32)         0           dropout_6[0][0]                  \n",
      "                                                                   userbias[0][0]                   \n",
      "                                                                   workbias[0][0]                   \n",
      "____________________________________________________________________________________________________\n",
      "flatten_6 (Flatten)              (None, 32)            0           concatenate_2[0][0]              \n",
      "____________________________________________________________________________________________________\n",
      "dense_6 (Dense)                  (None, 10)            330         flatten_6[0][0]                  \n",
      "____________________________________________________________________________________________________\n",
      "dense_7 (Dense)                  (None, 1)             11          dense_6[0][0]                    \n",
      "====================================================================================================\n",
      "Total params: 995,565\n",
      "Trainable params: 995,565\n",
      "Non-trainable params: 0\n",
      "____________________________________________________________________________________________________\n"
     ]
    }
   ],
   "source": [
    "dim_embedddings = 30\n",
    "bias = 1\n",
    "\n",
    "# inputs\n",
    "w_inputs = Input(shape=(1,), dtype='int32')\n",
    "u_inputs = Input(shape=(1,), dtype='int32')\n",
    "\n",
    "w = Embedding(n_movies+1, dim_embedddings, name=\"work\")(w_inputs)\n",
    "w_bis = Embedding(n_movies+1, bias, name=\"workbias\")(w_inputs)\n",
    "\n",
    "u = Embedding(n_users+1, dim_embedddings, name=\"user\")(u_inputs)\n",
    "u_bis = Embedding(n_users+1, bias, name=\"userbias\")(u_inputs)\n",
    "\n",
    "o = multiply([w, u])\n",
    "o = Dropout(0.5)(o)\n",
    "o = concatenate([o, u_bis, w_bis])\n",
    "\n",
    "o = Flatten()(o)\n",
    "o = Dense(10, activation=\"relu\")(o)\n",
    "o = Dense(1)(o)\n",
    "\n",
    "rec_model = Model(inputs=[w_inputs, u_inputs], outputs=o)\n",
    "rec_model.summary()"
   ]
  },
  {
   "cell_type": "code",
   "execution_count": 0,
   "metadata": {
    "colab": {},
    "colab_type": "code",
    "id": "n1r8pXpFTPJf"
   },
   "outputs": [],
   "source": [
    "history = rec_model.fit([train.movieId, train.userId], train.rating, nb_epoch=3,validation_split=0.2, verbose=2)\n",
    "predictions = rec_model.predict([test.movieId, test.userId])\n",
    "test_performance = mean_absolute_error(test.rating, predictions)\n",
    "print(\" Test Mae model 1 : %s \" % test_performance)"
   ]
  }
 ],
 "metadata": {
  "accelerator": "GPU",
  "colab": {
   "collapsed_sections": [],
   "name": "Recommendation_neural_network_NN-1.ipynb",
   "provenance": [],
   "version": "0.3.2"
  },
  "kernelspec": {
   "display_name": "Python 3",
   "language": "python",
   "name": "python3"
  },
  "language_info": {
   "codemirror_mode": {
    "name": "ipython",
    "version": 3
   },
   "file_extension": ".py",
   "mimetype": "text/x-python",
   "name": "python",
   "nbconvert_exporter": "python",
   "pygments_lexer": "ipython3",
   "version": "3.7.3"
  }
 },
 "nbformat": 4,
 "nbformat_minor": 1
}

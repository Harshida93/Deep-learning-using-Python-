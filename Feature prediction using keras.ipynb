{
 "cells": [
  {
   "cell_type": "code",
   "execution_count": 35,
   "metadata": {
    "colab": {},
    "colab_type": "code",
    "id": "Lzs1-XQ33VhS",
    "outputId": "391985f7-8832-4e40-f99f-b495ca352ce1"
   },
   "outputs": [],
   "source": [
    "\n",
    "import matplotlib.pyplot as plt\n",
    "import numpy as np\n",
    "import pandas as pd\n",
    "from sklearn.model_selection import train_test_split\n",
    "from sklearn.model_selection import cross_val_score\n",
    "from sklearn.model_selection import KFold\n",
    "from sklearn.pipeline import Pipeline\n",
    "from sklearn.preprocessing import MinMaxScaler\n",
    "from keras.models import Sequential\n",
    "from keras.layers import Dense\n",
    "from keras.wrappers.scikit_learn import KerasRegressor"
   ]
  },
  {
   "cell_type": "code",
   "execution_count": 36,
   "metadata": {},
   "outputs": [
    {
     "name": "stdout",
     "output_type": "stream",
     "text": [
      "Requirement already satisfied: tensorflow in /anaconda3/lib/python3.7/site-packages (1.14.0)\n",
      "Requirement already satisfied: wheel>=0.26 in /anaconda3/lib/python3.7/site-packages (from tensorflow) (0.33.1)\n",
      "Requirement already satisfied: keras-preprocessing>=1.0.5 in /anaconda3/lib/python3.7/site-packages (from tensorflow) (1.1.0)\n",
      "Requirement already satisfied: six>=1.10.0 in /anaconda3/lib/python3.7/site-packages (from tensorflow) (1.12.0)\n",
      "Requirement already satisfied: google-pasta>=0.1.6 in /anaconda3/lib/python3.7/site-packages (from tensorflow) (0.1.7)\n",
      "Requirement already satisfied: absl-py>=0.7.0 in /anaconda3/lib/python3.7/site-packages (from tensorflow) (0.7.1)\n",
      "Requirement already satisfied: tensorboard<1.15.0,>=1.14.0 in /anaconda3/lib/python3.7/site-packages (from tensorflow) (1.14.0)\n",
      "Requirement already satisfied: numpy<2.0,>=1.14.5 in /anaconda3/lib/python3.7/site-packages (from tensorflow) (1.16.2)\n",
      "Requirement already satisfied: wrapt>=1.11.1 in /anaconda3/lib/python3.7/site-packages (from tensorflow) (1.11.1)\n",
      "Requirement already satisfied: protobuf>=3.6.1 in /anaconda3/lib/python3.7/site-packages (from tensorflow) (3.8.0)\n",
      "Requirement already satisfied: keras-applications>=1.0.6 in /anaconda3/lib/python3.7/site-packages (from tensorflow) (1.0.8)\n",
      "Requirement already satisfied: grpcio>=1.8.6 in /anaconda3/lib/python3.7/site-packages (from tensorflow) (1.21.1)\n",
      "Requirement already satisfied: tensorflow-estimator<1.15.0rc0,>=1.14.0rc0 in /anaconda3/lib/python3.7/site-packages (from tensorflow) (1.14.0)\n",
      "Requirement already satisfied: astor>=0.6.0 in /anaconda3/lib/python3.7/site-packages (from tensorflow) (0.8.0)\n",
      "Requirement already satisfied: gast>=0.2.0 in /anaconda3/lib/python3.7/site-packages (from tensorflow) (0.2.2)\n",
      "Requirement already satisfied: termcolor>=1.1.0 in /anaconda3/lib/python3.7/site-packages (from tensorflow) (1.1.0)\n",
      "Requirement already satisfied: markdown>=2.6.8 in /anaconda3/lib/python3.7/site-packages (from tensorboard<1.15.0,>=1.14.0->tensorflow) (3.1.1)\n",
      "Requirement already satisfied: setuptools>=41.0.0 in /anaconda3/lib/python3.7/site-packages (from tensorboard<1.15.0,>=1.14.0->tensorflow) (41.0.1)\n",
      "Requirement already satisfied: werkzeug>=0.11.15 in /anaconda3/lib/python3.7/site-packages (from tensorboard<1.15.0,>=1.14.0->tensorflow) (0.14.1)\n",
      "Requirement already satisfied: h5py in /anaconda3/lib/python3.7/site-packages (from keras-applications>=1.0.6->tensorflow) (2.9.0)\n",
      "Note: you may need to restart the kernel to use updated packages.\n"
     ]
    }
   ],
   "source": [
    "pip install tensorflow"
   ]
  },
  {
   "cell_type": "markdown",
   "metadata": {
    "colab_type": "text",
    "id": "M2N2fzR23VhZ"
   },
   "source": [
    "For this example, use a linear activation function within the keras library to create a regression-based neural network. \n",
    "Essentially, we are trying to predict the value of a potential car sale (i.e. how much a particular person will spend on buying a car) for a customer based on the following attributes:\n",
    "\n",
    "-Age\n",
    "\n",
    "-Gender\n",
    "\n",
    "-Average miles driven per day\n",
    "\n",
    "-Personal debt\n",
    "\n",
    "-Monthly income"
   ]
  },
  {
   "cell_type": "code",
   "execution_count": 49,
   "metadata": {
    "colab": {},
    "colab_type": "code",
    "id": "TE1hW2eF3Vha",
    "outputId": "30ebbe2c-dfca-4526-ef8c-f0e25de5dfcd"
   },
   "outputs": [
    {
     "name": "stdout",
     "output_type": "stream",
     "text": [
      "MinMaxScaler(copy=True, feature_range=(0, 1))\n",
      "MinMaxScaler(copy=True, feature_range=(0, 1))\n"
     ]
    }
   ],
   "source": [
    "dataset=np.loadtxt(\"cars.csv\", delimiter=\",\")\n",
    "x=dataset[:,0:5]#predictor variables(age,gender,miles driven,debt,income)\n",
    "y=dataset[:,5] #target(potential car sale)\n",
    "y=np.reshape(y, (-1,1))\n",
    "scaler = MinMaxScaler()#to normalize the data for neural network\n",
    "print(scaler.fit(x))\n",
    "print(scaler.fit(y))\n",
    "x_scale=scaler.transform(x)\n",
    "y_scale=scaler.transform(y)"
   ]
  },
  {
   "cell_type": "code",
   "execution_count": 38,
   "metadata": {},
   "outputs": [],
   "source": [
    "df=pd.read_csv('cars.csv')"
   ]
  },
  {
   "cell_type": "code",
   "execution_count": 50,
   "metadata": {
    "colab": {},
    "colab_type": "code",
    "id": "030S2NH23Vhe"
   },
   "outputs": [],
   "source": [
    "X_train, X_test, y_train, y_test = train_test_split(x_scale, y_scale)"
   ]
  },
  {
   "cell_type": "markdown",
   "metadata": {
    "colab_type": "text",
    "id": "ZoFIftXa3Vhh"
   },
   "source": [
    "# Create the model."
   ]
  },
  {
   "cell_type": "markdown",
   "metadata": {},
   "source": [
    "training the neural network -12 & 8 neurons in the hidden layer with 5 inputs(age,gender,miles driven,debt,income) and linear activation function"
   ]
  },
  {
   "cell_type": "code",
   "execution_count": 52,
   "metadata": {
    "colab": {},
    "colab_type": "code",
    "id": "LqLz8WRk3Vhi",
    "outputId": "f92056fa-1908-4391-d641-89a676f95ffd"
   },
   "outputs": [
    {
     "name": "stdout",
     "output_type": "stream",
     "text": [
      "_________________________________________________________________\n",
      "Layer (type)                 Output Shape              Param #   \n",
      "=================================================================\n",
      "dense_13 (Dense)             (None, 12)                72        \n",
      "_________________________________________________________________\n",
      "dense_14 (Dense)             (None, 8)                 104       \n",
      "_________________________________________________________________\n",
      "dense_15 (Dense)             (None, 1)                 9         \n",
      "=================================================================\n",
      "Total params: 185\n",
      "Trainable params: 185\n",
      "Non-trainable params: 0\n",
      "_________________________________________________________________\n"
     ]
    }
   ],
   "source": [
    "model = Sequential()\n",
    "model.add(Dense(12, input_dim=5, kernel_initializer='normal', activation='relu'))\n",
    "model.add(Dense(8, activation='relu'))\n",
    "model.add(Dense(1, activation='linear'))\n",
    "model.summary()"
   ]
  },
  {
   "cell_type": "markdown",
   "metadata": {
    "colab_type": "text",
    "id": "x5RkBMpt3Vhm"
   },
   "source": [
    "# compile/fit the model"
   ]
  },
  {
   "cell_type": "markdown",
   "metadata": {},
   "source": [
    "mse and mae give the test error which is the accuracy of the model in predicting the data.lower the mse and mae better the accuracy of the model."
   ]
  },
  {
   "cell_type": "code",
   "execution_count": 54,
   "metadata": {
    "colab": {},
    "colab_type": "code",
    "id": "_toE-CX43Vhn",
    "outputId": "6e8edb90-8d60-49cf-88f4-351b9c0921ab"
   },
   "outputs": [
    {
     "name": "stdout",
     "output_type": "stream",
     "text": [
      "Train on 577 samples, validate on 145 samples\n",
      "Epoch 1/150\n",
      "577/577 [==============================] - 0s 668us/step - loss: 0.0173 - mean_squared_error: 0.0173 - mean_absolute_error: 0.0971 - val_loss: 0.0213 - val_mean_squared_error: 0.0213 - val_mean_absolute_error: 0.1130\n",
      "Epoch 2/150\n",
      "577/577 [==============================] - 0s 42us/step - loss: 0.0172 - mean_squared_error: 0.0172 - mean_absolute_error: 0.0968 - val_loss: 0.0213 - val_mean_squared_error: 0.0213 - val_mean_absolute_error: 0.1131\n",
      "Epoch 3/150\n",
      "577/577 [==============================] - 0s 42us/step - loss: 0.0172 - mean_squared_error: 0.0172 - mean_absolute_error: 0.0968 - val_loss: 0.0214 - val_mean_squared_error: 0.0214 - val_mean_absolute_error: 0.1130\n",
      "Epoch 4/150\n",
      "577/577 [==============================] - 0s 53us/step - loss: 0.0172 - mean_squared_error: 0.0172 - mean_absolute_error: 0.0968 - val_loss: 0.0211 - val_mean_squared_error: 0.0211 - val_mean_absolute_error: 0.1124\n",
      "Epoch 5/150\n",
      "577/577 [==============================] - 0s 51us/step - loss: 0.0172 - mean_squared_error: 0.0172 - mean_absolute_error: 0.0965 - val_loss: 0.0212 - val_mean_squared_error: 0.0212 - val_mean_absolute_error: 0.1127\n",
      "Epoch 6/150\n",
      "577/577 [==============================] - 0s 42us/step - loss: 0.0171 - mean_squared_error: 0.0171 - mean_absolute_error: 0.0968 - val_loss: 0.0212 - val_mean_squared_error: 0.0212 - val_mean_absolute_error: 0.1123\n",
      "Epoch 7/150\n",
      "577/577 [==============================] - 0s 47us/step - loss: 0.0171 - mean_squared_error: 0.0171 - mean_absolute_error: 0.0962 - val_loss: 0.0213 - val_mean_squared_error: 0.0213 - val_mean_absolute_error: 0.1126\n",
      "Epoch 8/150\n",
      "577/577 [==============================] - 0s 48us/step - loss: 0.0171 - mean_squared_error: 0.0171 - mean_absolute_error: 0.0962 - val_loss: 0.0212 - val_mean_squared_error: 0.0212 - val_mean_absolute_error: 0.1124\n",
      "Epoch 9/150\n",
      "577/577 [==============================] - 0s 45us/step - loss: 0.0171 - mean_squared_error: 0.0171 - mean_absolute_error: 0.0959 - val_loss: 0.0211 - val_mean_squared_error: 0.0211 - val_mean_absolute_error: 0.1123\n",
      "Epoch 10/150\n",
      "577/577 [==============================] - 0s 43us/step - loss: 0.0171 - mean_squared_error: 0.0171 - mean_absolute_error: 0.0963 - val_loss: 0.0212 - val_mean_squared_error: 0.0212 - val_mean_absolute_error: 0.1121\n",
      "Epoch 11/150\n",
      "577/577 [==============================] - 0s 49us/step - loss: 0.0171 - mean_squared_error: 0.0171 - mean_absolute_error: 0.0959 - val_loss: 0.0213 - val_mean_squared_error: 0.0213 - val_mean_absolute_error: 0.1127\n",
      "Epoch 12/150\n",
      "577/577 [==============================] - 0s 47us/step - loss: 0.0170 - mean_squared_error: 0.0170 - mean_absolute_error: 0.0960 - val_loss: 0.0211 - val_mean_squared_error: 0.0211 - val_mean_absolute_error: 0.1119\n",
      "Epoch 13/150\n",
      "577/577 [==============================] - 0s 49us/step - loss: 0.0171 - mean_squared_error: 0.0171 - mean_absolute_error: 0.0959 - val_loss: 0.0212 - val_mean_squared_error: 0.0212 - val_mean_absolute_error: 0.1125\n",
      "Epoch 14/150\n",
      "577/577 [==============================] - 0s 50us/step - loss: 0.0170 - mean_squared_error: 0.0170 - mean_absolute_error: 0.0955 - val_loss: 0.0211 - val_mean_squared_error: 0.0211 - val_mean_absolute_error: 0.1122\n",
      "Epoch 15/150\n",
      "577/577 [==============================] - 0s 45us/step - loss: 0.0170 - mean_squared_error: 0.0170 - mean_absolute_error: 0.0953 - val_loss: 0.0212 - val_mean_squared_error: 0.0212 - val_mean_absolute_error: 0.1122\n",
      "Epoch 16/150\n",
      "577/577 [==============================] - 0s 56us/step - loss: 0.0170 - mean_squared_error: 0.0170 - mean_absolute_error: 0.0954 - val_loss: 0.0211 - val_mean_squared_error: 0.0211 - val_mean_absolute_error: 0.1121\n",
      "Epoch 17/150\n",
      "577/577 [==============================] - 0s 53us/step - loss: 0.0170 - mean_squared_error: 0.0170 - mean_absolute_error: 0.0951 - val_loss: 0.0211 - val_mean_squared_error: 0.0211 - val_mean_absolute_error: 0.1121\n",
      "Epoch 18/150\n",
      "577/577 [==============================] - 0s 51us/step - loss: 0.0170 - mean_squared_error: 0.0170 - mean_absolute_error: 0.0960 - val_loss: 0.0211 - val_mean_squared_error: 0.0211 - val_mean_absolute_error: 0.1120\n",
      "Epoch 19/150\n",
      "577/577 [==============================] - 0s 52us/step - loss: 0.0169 - mean_squared_error: 0.0169 - mean_absolute_error: 0.0953 - val_loss: 0.0211 - val_mean_squared_error: 0.0211 - val_mean_absolute_error: 0.1120\n",
      "Epoch 20/150\n",
      "577/577 [==============================] - 0s 59us/step - loss: 0.0170 - mean_squared_error: 0.0170 - mean_absolute_error: 0.0951 - val_loss: 0.0211 - val_mean_squared_error: 0.0211 - val_mean_absolute_error: 0.1121\n",
      "Epoch 21/150\n",
      "577/577 [==============================] - 0s 60us/step - loss: 0.0169 - mean_squared_error: 0.0169 - mean_absolute_error: 0.0953 - val_loss: 0.0210 - val_mean_squared_error: 0.0210 - val_mean_absolute_error: 0.1120\n",
      "Epoch 22/150\n",
      "577/577 [==============================] - 0s 44us/step - loss: 0.0169 - mean_squared_error: 0.0169 - mean_absolute_error: 0.0952 - val_loss: 0.0211 - val_mean_squared_error: 0.0211 - val_mean_absolute_error: 0.1119\n",
      "Epoch 23/150\n",
      "577/577 [==============================] - 0s 41us/step - loss: 0.0169 - mean_squared_error: 0.0169 - mean_absolute_error: 0.0951 - val_loss: 0.0211 - val_mean_squared_error: 0.0211 - val_mean_absolute_error: 0.1118\n",
      "Epoch 24/150\n",
      "577/577 [==============================] - 0s 52us/step - loss: 0.0169 - mean_squared_error: 0.0169 - mean_absolute_error: 0.0954 - val_loss: 0.0209 - val_mean_squared_error: 0.0209 - val_mean_absolute_error: 0.1114\n",
      "Epoch 25/150\n",
      "577/577 [==============================] - 0s 34us/step - loss: 0.0170 - mean_squared_error: 0.0170 - mean_absolute_error: 0.0954 - val_loss: 0.0211 - val_mean_squared_error: 0.0211 - val_mean_absolute_error: 0.1117\n",
      "Epoch 26/150\n",
      "577/577 [==============================] - 0s 40us/step - loss: 0.0171 - mean_squared_error: 0.0171 - mean_absolute_error: 0.0961 - val_loss: 0.0212 - val_mean_squared_error: 0.0212 - val_mean_absolute_error: 0.1121\n",
      "Epoch 27/150\n",
      "577/577 [==============================] - 0s 45us/step - loss: 0.0170 - mean_squared_error: 0.0170 - mean_absolute_error: 0.0948 - val_loss: 0.0211 - val_mean_squared_error: 0.0211 - val_mean_absolute_error: 0.1117\n",
      "Epoch 28/150\n",
      "577/577 [==============================] - 0s 41us/step - loss: 0.0169 - mean_squared_error: 0.0169 - mean_absolute_error: 0.0950 - val_loss: 0.0210 - val_mean_squared_error: 0.0210 - val_mean_absolute_error: 0.1118\n",
      "Epoch 29/150\n",
      "577/577 [==============================] - 0s 45us/step - loss: 0.0169 - mean_squared_error: 0.0169 - mean_absolute_error: 0.0949 - val_loss: 0.0210 - val_mean_squared_error: 0.0210 - val_mean_absolute_error: 0.1117\n",
      "Epoch 30/150\n",
      "577/577 [==============================] - 0s 38us/step - loss: 0.0168 - mean_squared_error: 0.0168 - mean_absolute_error: 0.0950 - val_loss: 0.0212 - val_mean_squared_error: 0.0212 - val_mean_absolute_error: 0.1119\n",
      "Epoch 31/150\n",
      "577/577 [==============================] - 0s 42us/step - loss: 0.0168 - mean_squared_error: 0.0168 - mean_absolute_error: 0.0944 - val_loss: 0.0211 - val_mean_squared_error: 0.0211 - val_mean_absolute_error: 0.1119\n",
      "Epoch 32/150\n",
      "577/577 [==============================] - 0s 42us/step - loss: 0.0168 - mean_squared_error: 0.0168 - mean_absolute_error: 0.0944 - val_loss: 0.0212 - val_mean_squared_error: 0.0212 - val_mean_absolute_error: 0.1121\n",
      "Epoch 33/150\n",
      "577/577 [==============================] - 0s 51us/step - loss: 0.0169 - mean_squared_error: 0.0169 - mean_absolute_error: 0.0948 - val_loss: 0.0210 - val_mean_squared_error: 0.0210 - val_mean_absolute_error: 0.1115\n",
      "Epoch 34/150\n",
      "577/577 [==============================] - 0s 53us/step - loss: 0.0169 - mean_squared_error: 0.0169 - mean_absolute_error: 0.0945 - val_loss: 0.0210 - val_mean_squared_error: 0.0210 - val_mean_absolute_error: 0.1114\n",
      "Epoch 35/150\n",
      "577/577 [==============================] - 0s 64us/step - loss: 0.0168 - mean_squared_error: 0.0168 - mean_absolute_error: 0.0949 - val_loss: 0.0211 - val_mean_squared_error: 0.0211 - val_mean_absolute_error: 0.1120\n",
      "Epoch 36/150\n",
      "577/577 [==============================] - 0s 59us/step - loss: 0.0167 - mean_squared_error: 0.0167 - mean_absolute_error: 0.0942 - val_loss: 0.0211 - val_mean_squared_error: 0.0211 - val_mean_absolute_error: 0.1115\n"
     ]
    },
    {
     "name": "stdout",
     "output_type": "stream",
     "text": [
      "Epoch 37/150\n",
      "577/577 [==============================] - 0s 53us/step - loss: 0.0168 - mean_squared_error: 0.0168 - mean_absolute_error: 0.0942 - val_loss: 0.0210 - val_mean_squared_error: 0.0210 - val_mean_absolute_error: 0.1115\n",
      "Epoch 38/150\n",
      "577/577 [==============================] - 0s 46us/step - loss: 0.0169 - mean_squared_error: 0.0169 - mean_absolute_error: 0.0951 - val_loss: 0.0211 - val_mean_squared_error: 0.0211 - val_mean_absolute_error: 0.1118\n",
      "Epoch 39/150\n",
      "577/577 [==============================] - 0s 42us/step - loss: 0.0168 - mean_squared_error: 0.0168 - mean_absolute_error: 0.0941 - val_loss: 0.0210 - val_mean_squared_error: 0.0210 - val_mean_absolute_error: 0.1114\n",
      "Epoch 40/150\n",
      "577/577 [==============================] - 0s 40us/step - loss: 0.0168 - mean_squared_error: 0.0168 - mean_absolute_error: 0.0943 - val_loss: 0.0211 - val_mean_squared_error: 0.0211 - val_mean_absolute_error: 0.1117\n",
      "Epoch 41/150\n",
      "577/577 [==============================] - 0s 45us/step - loss: 0.0168 - mean_squared_error: 0.0168 - mean_absolute_error: 0.0936 - val_loss: 0.0210 - val_mean_squared_error: 0.0210 - val_mean_absolute_error: 0.1115\n",
      "Epoch 42/150\n",
      "577/577 [==============================] - 0s 38us/step - loss: 0.0167 - mean_squared_error: 0.0167 - mean_absolute_error: 0.0943 - val_loss: 0.0210 - val_mean_squared_error: 0.0210 - val_mean_absolute_error: 0.1117\n",
      "Epoch 43/150\n",
      "577/577 [==============================] - 0s 42us/step - loss: 0.0168 - mean_squared_error: 0.0168 - mean_absolute_error: 0.0943 - val_loss: 0.0209 - val_mean_squared_error: 0.0209 - val_mean_absolute_error: 0.1113\n",
      "Epoch 44/150\n",
      "577/577 [==============================] - 0s 47us/step - loss: 0.0167 - mean_squared_error: 0.0167 - mean_absolute_error: 0.0941 - val_loss: 0.0210 - val_mean_squared_error: 0.0210 - val_mean_absolute_error: 0.1113\n",
      "Epoch 45/150\n",
      "577/577 [==============================] - 0s 44us/step - loss: 0.0168 - mean_squared_error: 0.0168 - mean_absolute_error: 0.0939 - val_loss: 0.0210 - val_mean_squared_error: 0.0210 - val_mean_absolute_error: 0.1114\n",
      "Epoch 46/150\n",
      "577/577 [==============================] - 0s 48us/step - loss: 0.0168 - mean_squared_error: 0.0168 - mean_absolute_error: 0.0939 - val_loss: 0.0210 - val_mean_squared_error: 0.0210 - val_mean_absolute_error: 0.1115\n",
      "Epoch 47/150\n",
      "577/577 [==============================] - 0s 44us/step - loss: 0.0168 - mean_squared_error: 0.0168 - mean_absolute_error: 0.0943 - val_loss: 0.0210 - val_mean_squared_error: 0.0210 - val_mean_absolute_error: 0.1113\n",
      "Epoch 48/150\n",
      "577/577 [==============================] - 0s 38us/step - loss: 0.0167 - mean_squared_error: 0.0167 - mean_absolute_error: 0.0937 - val_loss: 0.0209 - val_mean_squared_error: 0.0209 - val_mean_absolute_error: 0.1111\n",
      "Epoch 49/150\n",
      "577/577 [==============================] - 0s 41us/step - loss: 0.0167 - mean_squared_error: 0.0167 - mean_absolute_error: 0.0940 - val_loss: 0.0209 - val_mean_squared_error: 0.0209 - val_mean_absolute_error: 0.1111\n",
      "Epoch 50/150\n",
      "577/577 [==============================] - 0s 41us/step - loss: 0.0167 - mean_squared_error: 0.0167 - mean_absolute_error: 0.0937 - val_loss: 0.0210 - val_mean_squared_error: 0.0210 - val_mean_absolute_error: 0.1114\n",
      "Epoch 51/150\n",
      "577/577 [==============================] - 0s 39us/step - loss: 0.0167 - mean_squared_error: 0.0167 - mean_absolute_error: 0.0936 - val_loss: 0.0210 - val_mean_squared_error: 0.0210 - val_mean_absolute_error: 0.1114\n",
      "Epoch 52/150\n",
      "577/577 [==============================] - 0s 54us/step - loss: 0.0167 - mean_squared_error: 0.0167 - mean_absolute_error: 0.0937 - val_loss: 0.0210 - val_mean_squared_error: 0.0210 - val_mean_absolute_error: 0.1112\n",
      "Epoch 53/150\n",
      "577/577 [==============================] - 0s 69us/step - loss: 0.0167 - mean_squared_error: 0.0167 - mean_absolute_error: 0.0939 - val_loss: 0.0209 - val_mean_squared_error: 0.0209 - val_mean_absolute_error: 0.1111\n",
      "Epoch 54/150\n",
      "577/577 [==============================] - 0s 46us/step - loss: 0.0170 - mean_squared_error: 0.0170 - mean_absolute_error: 0.0946 - val_loss: 0.0209 - val_mean_squared_error: 0.0209 - val_mean_absolute_error: 0.1110\n",
      "Epoch 55/150\n",
      "577/577 [==============================] - 0s 46us/step - loss: 0.0168 - mean_squared_error: 0.0168 - mean_absolute_error: 0.0943 - val_loss: 0.0212 - val_mean_squared_error: 0.0212 - val_mean_absolute_error: 0.1119\n",
      "Epoch 56/150\n",
      "577/577 [==============================] - 0s 43us/step - loss: 0.0168 - mean_squared_error: 0.0168 - mean_absolute_error: 0.0934 - val_loss: 0.0211 - val_mean_squared_error: 0.0211 - val_mean_absolute_error: 0.1115\n",
      "Epoch 57/150\n",
      "577/577 [==============================] - 0s 41us/step - loss: 0.0168 - mean_squared_error: 0.0168 - mean_absolute_error: 0.0943 - val_loss: 0.0209 - val_mean_squared_error: 0.0209 - val_mean_absolute_error: 0.1109\n",
      "Epoch 58/150\n",
      "577/577 [==============================] - 0s 32us/step - loss: 0.0168 - mean_squared_error: 0.0168 - mean_absolute_error: 0.0942 - val_loss: 0.0208 - val_mean_squared_error: 0.0208 - val_mean_absolute_error: 0.1106\n",
      "Epoch 59/150\n",
      "577/577 [==============================] - 0s 38us/step - loss: 0.0168 - mean_squared_error: 0.0168 - mean_absolute_error: 0.0935 - val_loss: 0.0211 - val_mean_squared_error: 0.0211 - val_mean_absolute_error: 0.1116\n",
      "Epoch 60/150\n",
      "577/577 [==============================] - 0s 35us/step - loss: 0.0168 - mean_squared_error: 0.0168 - mean_absolute_error: 0.0941 - val_loss: 0.0211 - val_mean_squared_error: 0.0211 - val_mean_absolute_error: 0.1117\n",
      "Epoch 61/150\n",
      "577/577 [==============================] - 0s 42us/step - loss: 0.0167 - mean_squared_error: 0.0167 - mean_absolute_error: 0.0938 - val_loss: 0.0209 - val_mean_squared_error: 0.0209 - val_mean_absolute_error: 0.1111\n",
      "Epoch 62/150\n",
      "577/577 [==============================] - 0s 46us/step - loss: 0.0167 - mean_squared_error: 0.0167 - mean_absolute_error: 0.0938 - val_loss: 0.0209 - val_mean_squared_error: 0.0209 - val_mean_absolute_error: 0.1111\n",
      "Epoch 63/150\n",
      "577/577 [==============================] - 0s 50us/step - loss: 0.0167 - mean_squared_error: 0.0167 - mean_absolute_error: 0.0937 - val_loss: 0.0211 - val_mean_squared_error: 0.0211 - val_mean_absolute_error: 0.1114\n",
      "Epoch 64/150\n",
      "577/577 [==============================] - 0s 45us/step - loss: 0.0168 - mean_squared_error: 0.0168 - mean_absolute_error: 0.0935 - val_loss: 0.0211 - val_mean_squared_error: 0.0211 - val_mean_absolute_error: 0.1115\n",
      "Epoch 65/150\n",
      "577/577 [==============================] - 0s 44us/step - loss: 0.0168 - mean_squared_error: 0.0168 - mean_absolute_error: 0.0944 - val_loss: 0.0209 - val_mean_squared_error: 0.0209 - val_mean_absolute_error: 0.1110\n",
      "Epoch 66/150\n",
      "577/577 [==============================] - 0s 41us/step - loss: 0.0167 - mean_squared_error: 0.0167 - mean_absolute_error: 0.0934 - val_loss: 0.0211 - val_mean_squared_error: 0.0211 - val_mean_absolute_error: 0.1115\n",
      "Epoch 67/150\n",
      "577/577 [==============================] - 0s 47us/step - loss: 0.0167 - mean_squared_error: 0.0167 - mean_absolute_error: 0.0936 - val_loss: 0.0210 - val_mean_squared_error: 0.0210 - val_mean_absolute_error: 0.1112\n",
      "Epoch 68/150\n",
      "577/577 [==============================] - 0s 38us/step - loss: 0.0167 - mean_squared_error: 0.0167 - mean_absolute_error: 0.0939 - val_loss: 0.0210 - val_mean_squared_error: 0.0210 - val_mean_absolute_error: 0.1111\n",
      "Epoch 69/150\n",
      "577/577 [==============================] - 0s 43us/step - loss: 0.0168 - mean_squared_error: 0.0168 - mean_absolute_error: 0.0937 - val_loss: 0.0208 - val_mean_squared_error: 0.0208 - val_mean_absolute_error: 0.1107\n",
      "Epoch 70/150\n",
      "577/577 [==============================] - 0s 48us/step - loss: 0.0167 - mean_squared_error: 0.0167 - mean_absolute_error: 0.0941 - val_loss: 0.0210 - val_mean_squared_error: 0.0210 - val_mean_absolute_error: 0.1112\n",
      "Epoch 71/150\n",
      "577/577 [==============================] - 0s 61us/step - loss: 0.0168 - mean_squared_error: 0.0168 - mean_absolute_error: 0.0933 - val_loss: 0.0210 - val_mean_squared_error: 0.0210 - val_mean_absolute_error: 0.1110\n",
      "Epoch 72/150\n",
      "577/577 [==============================] - ETA: 0s - loss: 0.0308 - mean_squared_error: 0.0308 - mean_absolute_error: 0.12 - 0s 44us/step - loss: 0.0167 - mean_squared_error: 0.0167 - mean_absolute_error: 0.0933 - val_loss: 0.0210 - val_mean_squared_error: 0.0210 - val_mean_absolute_error: 0.1112\n"
     ]
    },
    {
     "name": "stdout",
     "output_type": "stream",
     "text": [
      "Epoch 73/150\n",
      "577/577 [==============================] - 0s 42us/step - loss: 0.0167 - mean_squared_error: 0.0167 - mean_absolute_error: 0.0935 - val_loss: 0.0208 - val_mean_squared_error: 0.0208 - val_mean_absolute_error: 0.1106\n",
      "Epoch 74/150\n",
      "577/577 [==============================] - 0s 55us/step - loss: 0.0168 - mean_squared_error: 0.0168 - mean_absolute_error: 0.0934 - val_loss: 0.0210 - val_mean_squared_error: 0.0210 - val_mean_absolute_error: 0.1111\n",
      "Epoch 75/150\n",
      "577/577 [==============================] - 0s 42us/step - loss: 0.0167 - mean_squared_error: 0.0167 - mean_absolute_error: 0.0941 - val_loss: 0.0210 - val_mean_squared_error: 0.0210 - val_mean_absolute_error: 0.1110\n",
      "Epoch 76/150\n",
      "577/577 [==============================] - 0s 39us/step - loss: 0.0167 - mean_squared_error: 0.0167 - mean_absolute_error: 0.0933 - val_loss: 0.0208 - val_mean_squared_error: 0.0208 - val_mean_absolute_error: 0.1106\n",
      "Epoch 77/150\n",
      "577/577 [==============================] - 0s 37us/step - loss: 0.0167 - mean_squared_error: 0.0167 - mean_absolute_error: 0.0935 - val_loss: 0.0209 - val_mean_squared_error: 0.0209 - val_mean_absolute_error: 0.1108\n",
      "Epoch 78/150\n",
      "577/577 [==============================] - 0s 43us/step - loss: 0.0167 - mean_squared_error: 0.0167 - mean_absolute_error: 0.0932 - val_loss: 0.0210 - val_mean_squared_error: 0.0210 - val_mean_absolute_error: 0.1113\n",
      "Epoch 79/150\n",
      "577/577 [==============================] - 0s 40us/step - loss: 0.0167 - mean_squared_error: 0.0167 - mean_absolute_error: 0.0936 - val_loss: 0.0209 - val_mean_squared_error: 0.0209 - val_mean_absolute_error: 0.1108\n",
      "Epoch 80/150\n",
      "577/577 [==============================] - 0s 41us/step - loss: 0.0167 - mean_squared_error: 0.0167 - mean_absolute_error: 0.0933 - val_loss: 0.0209 - val_mean_squared_error: 0.0209 - val_mean_absolute_error: 0.1107\n",
      "Epoch 81/150\n",
      "577/577 [==============================] - 0s 38us/step - loss: 0.0167 - mean_squared_error: 0.0167 - mean_absolute_error: 0.0935 - val_loss: 0.0209 - val_mean_squared_error: 0.0209 - val_mean_absolute_error: 0.1108\n",
      "Epoch 82/150\n",
      "577/577 [==============================] - 0s 46us/step - loss: 0.0167 - mean_squared_error: 0.0167 - mean_absolute_error: 0.0932 - val_loss: 0.0209 - val_mean_squared_error: 0.0209 - val_mean_absolute_error: 0.1109\n",
      "Epoch 83/150\n",
      "577/577 [==============================] - 0s 41us/step - loss: 0.0169 - mean_squared_error: 0.0169 - mean_absolute_error: 0.0956 - val_loss: 0.0208 - val_mean_squared_error: 0.0208 - val_mean_absolute_error: 0.1107\n",
      "Epoch 84/150\n",
      "577/577 [==============================] - 0s 44us/step - loss: 0.0167 - mean_squared_error: 0.0167 - mean_absolute_error: 0.0931 - val_loss: 0.0212 - val_mean_squared_error: 0.0212 - val_mean_absolute_error: 0.1115\n",
      "Epoch 85/150\n",
      "577/577 [==============================] - 0s 41us/step - loss: 0.0167 - mean_squared_error: 0.0167 - mean_absolute_error: 0.0936 - val_loss: 0.0210 - val_mean_squared_error: 0.0210 - val_mean_absolute_error: 0.1111\n",
      "Epoch 86/150\n",
      "577/577 [==============================] - 0s 41us/step - loss: 0.0167 - mean_squared_error: 0.0167 - mean_absolute_error: 0.0931 - val_loss: 0.0208 - val_mean_squared_error: 0.0208 - val_mean_absolute_error: 0.1106\n",
      "Epoch 87/150\n",
      "577/577 [==============================] - 0s 38us/step - loss: 0.0167 - mean_squared_error: 0.0167 - mean_absolute_error: 0.0938 - val_loss: 0.0210 - val_mean_squared_error: 0.0210 - val_mean_absolute_error: 0.1110\n",
      "Epoch 88/150\n",
      "577/577 [==============================] - 0s 43us/step - loss: 0.0168 - mean_squared_error: 0.0168 - mean_absolute_error: 0.0933 - val_loss: 0.0209 - val_mean_squared_error: 0.0209 - val_mean_absolute_error: 0.1108\n",
      "Epoch 89/150\n",
      "577/577 [==============================] - 0s 39us/step - loss: 0.0169 - mean_squared_error: 0.0169 - mean_absolute_error: 0.0954 - val_loss: 0.0208 - val_mean_squared_error: 0.0208 - val_mean_absolute_error: 0.1103\n",
      "Epoch 90/150\n",
      "577/577 [==============================] - 0s 41us/step - loss: 0.0169 - mean_squared_error: 0.0169 - mean_absolute_error: 0.0937 - val_loss: 0.0210 - val_mean_squared_error: 0.0210 - val_mean_absolute_error: 0.1110\n",
      "Epoch 91/150\n",
      "577/577 [==============================] - 0s 40us/step - loss: 0.0167 - mean_squared_error: 0.0167 - mean_absolute_error: 0.0944 - val_loss: 0.0211 - val_mean_squared_error: 0.0211 - val_mean_absolute_error: 0.1112\n",
      "Epoch 92/150\n",
      "577/577 [==============================] - 0s 44us/step - loss: 0.0167 - mean_squared_error: 0.0167 - mean_absolute_error: 0.0936 - val_loss: 0.0209 - val_mean_squared_error: 0.0209 - val_mean_absolute_error: 0.1108\n",
      "Epoch 93/150\n",
      "577/577 [==============================] - 0s 42us/step - loss: 0.0167 - mean_squared_error: 0.0167 - mean_absolute_error: 0.0938 - val_loss: 0.0209 - val_mean_squared_error: 0.0209 - val_mean_absolute_error: 0.1107\n",
      "Epoch 94/150\n",
      "577/577 [==============================] - 0s 46us/step - loss: 0.0166 - mean_squared_error: 0.0166 - mean_absolute_error: 0.0931 - val_loss: 0.0209 - val_mean_squared_error: 0.0209 - val_mean_absolute_error: 0.1108\n",
      "Epoch 95/150\n",
      "577/577 [==============================] - 0s 41us/step - loss: 0.0167 - mean_squared_error: 0.0167 - mean_absolute_error: 0.0936 - val_loss: 0.0209 - val_mean_squared_error: 0.0209 - val_mean_absolute_error: 0.1106\n",
      "Epoch 96/150\n",
      "577/577 [==============================] - 0s 43us/step - loss: 0.0166 - mean_squared_error: 0.0166 - mean_absolute_error: 0.0931 - val_loss: 0.0210 - val_mean_squared_error: 0.0210 - val_mean_absolute_error: 0.1109\n",
      "Epoch 97/150\n",
      "577/577 [==============================] - 0s 47us/step - loss: 0.0167 - mean_squared_error: 0.0167 - mean_absolute_error: 0.0930 - val_loss: 0.0209 - val_mean_squared_error: 0.0209 - val_mean_absolute_error: 0.1106\n",
      "Epoch 98/150\n",
      "577/577 [==============================] - 0s 47us/step - loss: 0.0167 - mean_squared_error: 0.0167 - mean_absolute_error: 0.0930 - val_loss: 0.0209 - val_mean_squared_error: 0.0209 - val_mean_absolute_error: 0.1105\n",
      "Epoch 99/150\n",
      "577/577 [==============================] - 0s 48us/step - loss: 0.0167 - mean_squared_error: 0.0167 - mean_absolute_error: 0.0931 - val_loss: 0.0212 - val_mean_squared_error: 0.0212 - val_mean_absolute_error: 0.1116\n",
      "Epoch 100/150\n",
      "577/577 [==============================] - 0s 42us/step - loss: 0.0166 - mean_squared_error: 0.0166 - mean_absolute_error: 0.0931 - val_loss: 0.0209 - val_mean_squared_error: 0.0209 - val_mean_absolute_error: 0.1106\n",
      "Epoch 101/150\n",
      "577/577 [==============================] - 0s 41us/step - loss: 0.0167 - mean_squared_error: 0.0167 - mean_absolute_error: 0.0930 - val_loss: 0.0209 - val_mean_squared_error: 0.0209 - val_mean_absolute_error: 0.1106\n",
      "Epoch 102/150\n",
      "577/577 [==============================] - 0s 40us/step - loss: 0.0167 - mean_squared_error: 0.0167 - mean_absolute_error: 0.0940 - val_loss: 0.0208 - val_mean_squared_error: 0.0208 - val_mean_absolute_error: 0.1103\n",
      "Epoch 103/150\n",
      "577/577 [==============================] - 0s 39us/step - loss: 0.0168 - mean_squared_error: 0.0168 - mean_absolute_error: 0.0934 - val_loss: 0.0211 - val_mean_squared_error: 0.0211 - val_mean_absolute_error: 0.1114\n",
      "Epoch 104/150\n",
      "577/577 [==============================] - 0s 39us/step - loss: 0.0167 - mean_squared_error: 0.0167 - mean_absolute_error: 0.0936 - val_loss: 0.0209 - val_mean_squared_error: 0.0209 - val_mean_absolute_error: 0.1107\n",
      "Epoch 105/150\n",
      "577/577 [==============================] - 0s 39us/step - loss: 0.0166 - mean_squared_error: 0.0166 - mean_absolute_error: 0.0930 - val_loss: 0.0209 - val_mean_squared_error: 0.0209 - val_mean_absolute_error: 0.1106\n",
      "Epoch 106/150\n",
      "577/577 [==============================] - 0s 43us/step - loss: 0.0167 - mean_squared_error: 0.0167 - mean_absolute_error: 0.0931 - val_loss: 0.0210 - val_mean_squared_error: 0.0210 - val_mean_absolute_error: 0.1108\n",
      "Epoch 107/150\n",
      "577/577 [==============================] - 0s 39us/step - loss: 0.0168 - mean_squared_error: 0.0168 - mean_absolute_error: 0.0942 - val_loss: 0.0209 - val_mean_squared_error: 0.0209 - val_mean_absolute_error: 0.1107\n",
      "Epoch 108/150\n",
      "577/577 [==============================] - 0s 45us/step - loss: 0.0166 - mean_squared_error: 0.0166 - mean_absolute_error: 0.0929 - val_loss: 0.0209 - val_mean_squared_error: 0.0209 - val_mean_absolute_error: 0.1107\n"
     ]
    },
    {
     "name": "stdout",
     "output_type": "stream",
     "text": [
      "Epoch 109/150\n",
      "577/577 [==============================] - 0s 40us/step - loss: 0.0167 - mean_squared_error: 0.0167 - mean_absolute_error: 0.0929 - val_loss: 0.0209 - val_mean_squared_error: 0.0209 - val_mean_absolute_error: 0.1107\n",
      "Epoch 110/150\n",
      "577/577 [==============================] - 0s 46us/step - loss: 0.0167 - mean_squared_error: 0.0167 - mean_absolute_error: 0.0937 - val_loss: 0.0208 - val_mean_squared_error: 0.0208 - val_mean_absolute_error: 0.1104\n",
      "Epoch 111/150\n",
      "577/577 [==============================] - 0s 47us/step - loss: 0.0167 - mean_squared_error: 0.0167 - mean_absolute_error: 0.0930 - val_loss: 0.0209 - val_mean_squared_error: 0.0209 - val_mean_absolute_error: 0.1105\n",
      "Epoch 112/150\n",
      "577/577 [==============================] - 0s 43us/step - loss: 0.0166 - mean_squared_error: 0.0166 - mean_absolute_error: 0.0930 - val_loss: 0.0210 - val_mean_squared_error: 0.0210 - val_mean_absolute_error: 0.1108\n",
      "Epoch 113/150\n",
      "577/577 [==============================] - 0s 37us/step - loss: 0.0166 - mean_squared_error: 0.0166 - mean_absolute_error: 0.0929 - val_loss: 0.0209 - val_mean_squared_error: 0.0209 - val_mean_absolute_error: 0.1106\n",
      "Epoch 114/150\n",
      "577/577 [==============================] - 0s 43us/step - loss: 0.0166 - mean_squared_error: 0.0166 - mean_absolute_error: 0.0930 - val_loss: 0.0209 - val_mean_squared_error: 0.0209 - val_mean_absolute_error: 0.1105\n",
      "Epoch 115/150\n",
      "577/577 [==============================] - 0s 36us/step - loss: 0.0166 - mean_squared_error: 0.0166 - mean_absolute_error: 0.0932 - val_loss: 0.0210 - val_mean_squared_error: 0.0210 - val_mean_absolute_error: 0.1108\n",
      "Epoch 116/150\n",
      "577/577 [==============================] - 0s 39us/step - loss: 0.0167 - mean_squared_error: 0.0167 - mean_absolute_error: 0.0936 - val_loss: 0.0209 - val_mean_squared_error: 0.0209 - val_mean_absolute_error: 0.1107\n",
      "Epoch 117/150\n",
      "577/577 [==============================] - 0s 41us/step - loss: 0.0168 - mean_squared_error: 0.0168 - mean_absolute_error: 0.0934 - val_loss: 0.0210 - val_mean_squared_error: 0.0210 - val_mean_absolute_error: 0.1109\n",
      "Epoch 118/150\n",
      "577/577 [==============================] - 0s 40us/step - loss: 0.0166 - mean_squared_error: 0.0166 - mean_absolute_error: 0.0935 - val_loss: 0.0210 - val_mean_squared_error: 0.0210 - val_mean_absolute_error: 0.1109\n",
      "Epoch 119/150\n",
      "577/577 [==============================] - 0s 41us/step - loss: 0.0168 - mean_squared_error: 0.0168 - mean_absolute_error: 0.0931 - val_loss: 0.0208 - val_mean_squared_error: 0.0208 - val_mean_absolute_error: 0.1104\n",
      "Epoch 120/150\n",
      "577/577 [==============================] - 0s 39us/step - loss: 0.0167 - mean_squared_error: 0.0167 - mean_absolute_error: 0.0941 - val_loss: 0.0209 - val_mean_squared_error: 0.0209 - val_mean_absolute_error: 0.1105\n",
      "Epoch 121/150\n",
      "577/577 [==============================] - 0s 41us/step - loss: 0.0166 - mean_squared_error: 0.0166 - mean_absolute_error: 0.0928 - val_loss: 0.0210 - val_mean_squared_error: 0.0210 - val_mean_absolute_error: 0.1108\n",
      "Epoch 122/150\n",
      "577/577 [==============================] - 0s 42us/step - loss: 0.0166 - mean_squared_error: 0.0166 - mean_absolute_error: 0.0932 - val_loss: 0.0209 - val_mean_squared_error: 0.0209 - val_mean_absolute_error: 0.1107\n",
      "Epoch 123/150\n",
      "577/577 [==============================] - 0s 38us/step - loss: 0.0167 - mean_squared_error: 0.0167 - mean_absolute_error: 0.0930 - val_loss: 0.0210 - val_mean_squared_error: 0.0210 - val_mean_absolute_error: 0.1107\n",
      "Epoch 124/150\n",
      "577/577 [==============================] - 0s 45us/step - loss: 0.0167 - mean_squared_error: 0.0167 - mean_absolute_error: 0.0935 - val_loss: 0.0208 - val_mean_squared_error: 0.0208 - val_mean_absolute_error: 0.1103\n",
      "Epoch 125/150\n",
      "577/577 [==============================] - 0s 44us/step - loss: 0.0168 - mean_squared_error: 0.0168 - mean_absolute_error: 0.0938 - val_loss: 0.0209 - val_mean_squared_error: 0.0209 - val_mean_absolute_error: 0.1106\n",
      "Epoch 126/150\n",
      "577/577 [==============================] - 0s 47us/step - loss: 0.0166 - mean_squared_error: 0.0166 - mean_absolute_error: 0.0931 - val_loss: 0.0211 - val_mean_squared_error: 0.0211 - val_mean_absolute_error: 0.1111\n",
      "Epoch 127/150\n",
      "577/577 [==============================] - 0s 41us/step - loss: 0.0166 - mean_squared_error: 0.0166 - mean_absolute_error: 0.0933 - val_loss: 0.0209 - val_mean_squared_error: 0.0209 - val_mean_absolute_error: 0.1106\n",
      "Epoch 128/150\n",
      "577/577 [==============================] - 0s 45us/step - loss: 0.0166 - mean_squared_error: 0.0166 - mean_absolute_error: 0.0930 - val_loss: 0.0208 - val_mean_squared_error: 0.0208 - val_mean_absolute_error: 0.1104\n",
      "Epoch 129/150\n",
      "577/577 [==============================] - 0s 46us/step - loss: 0.0166 - mean_squared_error: 0.0166 - mean_absolute_error: 0.0930 - val_loss: 0.0210 - val_mean_squared_error: 0.0210 - val_mean_absolute_error: 0.1107\n",
      "Epoch 130/150\n",
      "577/577 [==============================] - 0s 44us/step - loss: 0.0166 - mean_squared_error: 0.0166 - mean_absolute_error: 0.0931 - val_loss: 0.0210 - val_mean_squared_error: 0.0210 - val_mean_absolute_error: 0.1107\n",
      "Epoch 131/150\n",
      "577/577 [==============================] - 0s 42us/step - loss: 0.0167 - mean_squared_error: 0.0167 - mean_absolute_error: 0.0930 - val_loss: 0.0209 - val_mean_squared_error: 0.0209 - val_mean_absolute_error: 0.1106\n",
      "Epoch 132/150\n",
      "577/577 [==============================] - 0s 39us/step - loss: 0.0166 - mean_squared_error: 0.0166 - mean_absolute_error: 0.0930 - val_loss: 0.0209 - val_mean_squared_error: 0.0209 - val_mean_absolute_error: 0.1104\n",
      "Epoch 133/150\n",
      "577/577 [==============================] - 0s 40us/step - loss: 0.0167 - mean_squared_error: 0.0167 - mean_absolute_error: 0.0929 - val_loss: 0.0210 - val_mean_squared_error: 0.0210 - val_mean_absolute_error: 0.1109\n",
      "Epoch 134/150\n",
      "577/577 [==============================] - 0s 39us/step - loss: 0.0168 - mean_squared_error: 0.0168 - mean_absolute_error: 0.0942 - val_loss: 0.0210 - val_mean_squared_error: 0.0210 - val_mean_absolute_error: 0.1109\n",
      "Epoch 135/150\n",
      "577/577 [==============================] - 0s 45us/step - loss: 0.0167 - mean_squared_error: 0.0167 - mean_absolute_error: 0.0929 - val_loss: 0.0210 - val_mean_squared_error: 0.0210 - val_mean_absolute_error: 0.1107\n",
      "Epoch 136/150\n",
      "577/577 [==============================] - 0s 40us/step - loss: 0.0168 - mean_squared_error: 0.0168 - mean_absolute_error: 0.0947 - val_loss: 0.0208 - val_mean_squared_error: 0.0208 - val_mean_absolute_error: 0.1103\n",
      "Epoch 137/150\n",
      "577/577 [==============================] - 0s 45us/step - loss: 0.0168 - mean_squared_error: 0.0168 - mean_absolute_error: 0.0931 - val_loss: 0.0210 - val_mean_squared_error: 0.0210 - val_mean_absolute_error: 0.1109\n",
      "Epoch 138/150\n",
      "577/577 [==============================] - 0s 38us/step - loss: 0.0169 - mean_squared_error: 0.0169 - mean_absolute_error: 0.0947 - val_loss: 0.0208 - val_mean_squared_error: 0.0208 - val_mean_absolute_error: 0.1103\n",
      "Epoch 139/150\n",
      "577/577 [==============================] - 0s 44us/step - loss: 0.0169 - mean_squared_error: 0.0169 - mean_absolute_error: 0.0935 - val_loss: 0.0209 - val_mean_squared_error: 0.0209 - val_mean_absolute_error: 0.1106\n",
      "Epoch 140/150\n",
      "577/577 [==============================] - 0s 39us/step - loss: 0.0166 - mean_squared_error: 0.0166 - mean_absolute_error: 0.0932 - val_loss: 0.0210 - val_mean_squared_error: 0.0210 - val_mean_absolute_error: 0.1107\n",
      "Epoch 141/150\n",
      "577/577 [==============================] - 0s 41us/step - loss: 0.0167 - mean_squared_error: 0.0167 - mean_absolute_error: 0.0930 - val_loss: 0.0210 - val_mean_squared_error: 0.0210 - val_mean_absolute_error: 0.1107\n",
      "Epoch 142/150\n",
      "577/577 [==============================] - 0s 42us/step - loss: 0.0167 - mean_squared_error: 0.0167 - mean_absolute_error: 0.0938 - val_loss: 0.0208 - val_mean_squared_error: 0.0208 - val_mean_absolute_error: 0.1100\n",
      "Epoch 143/150\n",
      "577/577 [==============================] - 0s 40us/step - loss: 0.0167 - mean_squared_error: 0.0167 - mean_absolute_error: 0.0933 - val_loss: 0.0209 - val_mean_squared_error: 0.0209 - val_mean_absolute_error: 0.1105\n",
      "Epoch 144/150\n",
      "577/577 [==============================] - 0s 40us/step - loss: 0.0166 - mean_squared_error: 0.0166 - mean_absolute_error: 0.0934 - val_loss: 0.0210 - val_mean_squared_error: 0.0210 - val_mean_absolute_error: 0.1107\n"
     ]
    },
    {
     "name": "stdout",
     "output_type": "stream",
     "text": [
      "Epoch 145/150\n",
      "577/577 [==============================] - 0s 40us/step - loss: 0.0166 - mean_squared_error: 0.0166 - mean_absolute_error: 0.0930 - val_loss: 0.0210 - val_mean_squared_error: 0.0210 - val_mean_absolute_error: 0.1108\n",
      "Epoch 146/150\n",
      "577/577 [==============================] - 0s 35us/step - loss: 0.0167 - mean_squared_error: 0.0167 - mean_absolute_error: 0.0928 - val_loss: 0.0210 - val_mean_squared_error: 0.0210 - val_mean_absolute_error: 0.1109\n",
      "Epoch 147/150\n",
      "577/577 [==============================] - 0s 43us/step - loss: 0.0166 - mean_squared_error: 0.0166 - mean_absolute_error: 0.0930 - val_loss: 0.0210 - val_mean_squared_error: 0.0210 - val_mean_absolute_error: 0.1108\n",
      "Epoch 148/150\n",
      "577/577 [==============================] - 0s 38us/step - loss: 0.0166 - mean_squared_error: 0.0166 - mean_absolute_error: 0.0927 - val_loss: 0.0209 - val_mean_squared_error: 0.0209 - val_mean_absolute_error: 0.1105\n",
      "Epoch 149/150\n",
      "577/577 [==============================] - 0s 40us/step - loss: 0.0167 - mean_squared_error: 0.0167 - mean_absolute_error: 0.0929 - val_loss: 0.0210 - val_mean_squared_error: 0.0210 - val_mean_absolute_error: 0.1107\n",
      "Epoch 150/150\n",
      "577/577 [==============================] - 0s 39us/step - loss: 0.0167 - mean_squared_error: 0.0167 - mean_absolute_error: 0.0935 - val_loss: 0.0208 - val_mean_squared_error: 0.0208 - val_mean_absolute_error: 0.1101\n"
     ]
    }
   ],
   "source": [
    "model.compile(loss='mse', optimizer='adam', metrics=['mse','mae'])\n",
    "Train_data= model.fit(X_train, y_train, epochs=150, batch_size=50,  verbose=1, validation_split=0.2)"
   ]
  },
  {
   "cell_type": "code",
   "execution_count": 42,
   "metadata": {
    "colab": {},
    "colab_type": "code",
    "id": "_tSC2-HI3Vhr"
   },
   "outputs": [],
   "source": [
    "Xnew = np.array([[40, 0, 26, 9000, 8000]])"
   ]
  },
  {
   "cell_type": "markdown",
   "metadata": {
    "colab_type": "text",
    "id": "lPnUg-7M3Vhv"
   },
   "source": [
    "# predict the new set of data"
   ]
  },
  {
   "cell_type": "code",
   "execution_count": 55,
   "metadata": {
    "colab": {},
    "colab_type": "code",
    "id": "SlJfVsVU3Vhw",
    "outputId": "6cca3c78-c02d-4802-b38e-b1586f13d68a"
   },
   "outputs": [
    {
     "data": {
      "text/plain": [
       "(array([  40.,    0.,   26., 9000., 8000.]),\n",
       " array([[12833.113]], dtype=float32))"
      ]
     },
     "execution_count": 55,
     "metadata": {},
     "output_type": "execute_result"
    }
   ],
   "source": [
    "Xnew = np.array([[40, 0, 26, 9000, 8000]])\n",
    "Xnew= scaler.transform(Xnew)\n",
    "ynew= model.predict(Xnew)\n",
    "\n",
    "ynew = scaler.inverse_transform(ynew) \n",
    "Xnew = scaler.inverse_transform(Xnew)\n",
    "Xnew[0], ynew"
   ]
  },
  {
   "cell_type": "code",
   "execution_count": 56,
   "metadata": {
    "colab": {},
    "colab_type": "code",
    "id": "grG7qDpy3Vh4"
   },
   "outputs": [
    {
     "data": {
      "text/plain": [
       "array([[12833.113]], dtype=float32)"
      ]
     },
     "execution_count": 56,
     "metadata": {},
     "output_type": "execute_result"
    }
   ],
   "source": [
    "ynew"
   ]
  },
  {
   "cell_type": "markdown",
   "metadata": {},
   "source": [
    "For the given inputs of age-40,female,miles driven 26 with debt of 9000 and income of 8000 the potential car sale is 12833.113 as predicted by the model."
   ]
  },
  {
   "cell_type": "code",
   "execution_count": null,
   "metadata": {},
   "outputs": [],
   "source": []
  }
 ],
 "metadata": {
  "colab": {
   "collapsed_sections": [],
   "name": "FNN_cars-dataset-assignment.ipynb",
   "provenance": [],
   "version": "0.3.2"
  },
  "kernelspec": {
   "display_name": "Python 3",
   "language": "python",
   "name": "python3"
  },
  "language_info": {
   "codemirror_mode": {
    "name": "ipython",
    "version": 3
   },
   "file_extension": ".py",
   "mimetype": "text/x-python",
   "name": "python",
   "nbconvert_exporter": "python",
   "pygments_lexer": "ipython3",
   "version": "3.7.3"
  }
 },
 "nbformat": 4,
 "nbformat_minor": 1
}
